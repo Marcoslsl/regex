{
 "cells": [
  {
   "cell_type": "markdown",
   "id": "a0d726ff",
   "metadata": {},
   "source": [
    "# Exceptions "
   ]
  },
  {
   "cell_type": "code",
   "execution_count": 1,
   "id": "8c7f6d85",
   "metadata": {
    "ExecuteTime": {
     "end_time": "2022-02-23T11:41:14.675872Z",
     "start_time": "2022-02-23T11:41:14.139366Z"
    }
   },
   "outputs": [
    {
     "ename": "NameError",
     "evalue": "name 'a' is not defined",
     "output_type": "error",
     "traceback": [
      "\u001b[0;31m---------------------------------------------------------------------------\u001b[0m",
      "\u001b[0;31mNameError\u001b[0m                                 Traceback (most recent call last)",
      "Input \u001b[0;32mIn [1]\u001b[0m, in \u001b[0;36m<module>\u001b[0;34m\u001b[0m\n\u001b[0;32m----> 1\u001b[0m \u001b[38;5;28mprint\u001b[39m(\u001b[43ma\u001b[49m)\n",
      "\u001b[0;31mNameError\u001b[0m: name 'a' is not defined"
     ]
    }
   ],
   "source": [
    "print(a)"
   ]
  },
  {
   "cell_type": "code",
   "execution_count": 3,
   "id": "ebc8db2b",
   "metadata": {
    "ExecuteTime": {
     "end_time": "2022-02-23T11:43:40.597326Z",
     "start_time": "2022-02-23T11:43:40.586166Z"
    }
   },
   "outputs": [
    {
     "name": "stdout",
     "output_type": "stream",
     "text": [
      "error\n"
     ]
    }
   ],
   "source": [
    "# pass: continua sem fazer nada\n",
    "try:\n",
    "    print(a)\n",
    "except:\n",
    "    pass\n",
    "\n",
    "# tenta executar o comando, caso de algum erro faz o except\n",
    "try:\n",
    "    print(a)\n",
    "except:\n",
    "    print('error')"
   ]
  },
  {
   "cell_type": "markdown",
   "id": "7aa74aa3",
   "metadata": {},
   "source": [
    "Não é uma boa prática colocar o except desse jeito, pois vai pegar qualquer erro.\n",
    "\n",
    "é melhor especificar qual tipo de erro na exception"
   ]
  },
  {
   "cell_type": "code",
   "execution_count": 5,
   "id": "20e0fa10",
   "metadata": {
    "ExecuteTime": {
     "end_time": "2022-02-23T11:46:50.203353Z",
     "start_time": "2022-02-23T11:46:50.195875Z"
    }
   },
   "outputs": [
    {
     "name": "stdout",
     "output_type": "stream",
     "text": [
      "Error: name 'a' is not defined\n",
      "continua o código normalmente\n"
     ]
    }
   ],
   "source": [
    "try:\n",
    "    print(a)\n",
    "except NameError as erro:\n",
    "    print('Error:', erro)\n",
    "except Exception as erro:\n",
    "    print('ocorreu um erro inesperado')\n",
    "    \n",
    "print('continua o código normalmente')"
   ]
  },
  {
   "cell_type": "code",
   "execution_count": 7,
   "id": "af9d4aed",
   "metadata": {
    "ExecuteTime": {
     "end_time": "2022-02-23T11:48:48.934577Z",
     "start_time": "2022-02-23T11:48:48.924773Z"
    }
   },
   "outputs": [
    {
     "name": "stdout",
     "output_type": "stream",
     "text": [
      "ocorreu um erro inesperado\n"
     ]
    }
   ],
   "source": [
    "try:\n",
    "    a = []\n",
    "    print(a[1])\n",
    "    print(a)\n",
    "except NameError as erro:\n",
    "    print('Error:', erro)\n",
    "except Exception as erro:\n",
    "    print('ocorreu um erro inesperado')\n",
    "    "
   ]
  },
  {
   "cell_type": "code",
   "execution_count": 9,
   "id": "b9651dc4",
   "metadata": {
    "ExecuteTime": {
     "end_time": "2022-02-23T11:49:59.242630Z",
     "start_time": "2022-02-23T11:49:59.228683Z"
    }
   },
   "outputs": [
    {
     "name": "stdout",
     "output_type": "stream",
     "text": [
      "Error: list index out of range\n"
     ]
    }
   ],
   "source": [
    "try:\n",
    "    a = []\n",
    "    print(a[1])\n",
    "    print(a)\n",
    "except NameError as erro:\n",
    "    print('Error:', erro)\n",
    "    \n",
    "except IndexError as erro:\n",
    "    print('Error:', erro)\n",
    "    \n",
    "except Exception as erro:\n",
    "    print('ocorreu um erro inesperado')"
   ]
  },
  {
   "cell_type": "code",
   "execution_count": 12,
   "id": "f8bd1529",
   "metadata": {
    "ExecuteTime": {
     "end_time": "2022-02-23T11:53:00.426499Z",
     "start_time": "2022-02-23T11:53:00.415542Z"
    }
   },
   "outputs": [
    {
     "name": "stdout",
     "output_type": "stream",
     "text": [
      "erro de indice ou chave\n"
     ]
    }
   ],
   "source": [
    "try:\n",
    "    b = {}\n",
    "    print(b[1])\n",
    "    a = []\n",
    "    print(a[1])\n",
    "    print(a)\n",
    "except NameError as erro:\n",
    "    print('Error:', erro)\n",
    "    \n",
    "except (IndexError, KeyError) as erro:\n",
    "    print('erro de indice ou chave')\n",
    "    \n",
    "except Exception as erro:\n",
    "    print('ocorreu um erro inesperado')"
   ]
  },
  {
   "cell_type": "code",
   "execution_count": 17,
   "id": "227cb6b4",
   "metadata": {
    "ExecuteTime": {
     "end_time": "2022-02-23T11:57:04.508092Z",
     "start_time": "2022-02-23T11:57:04.492470Z"
    }
   },
   "outputs": [
    {
     "name": "stdout",
     "output_type": "stream",
     "text": [
      "executado com sucesso \n",
      "\n",
      "\n",
      "{}\n",
      "finally vai ser executada sempre \n"
     ]
    }
   ],
   "source": [
    "# else sempre executa quando seu codigo n tem erro\n",
    "try:\n",
    "    b = {}\n",
    "except NameError as erro:\n",
    "    print('Error:', erro)\n",
    "    \n",
    "except (IndexError, KeyError) as erro:\n",
    "    print('erro de indice ou chave')\n",
    "    \n",
    "except Exception as erro:\n",
    "    print('ocorreu um erro inesperado')\n",
    "\n",
    "else: \n",
    "    print( 'executado com sucesso \\n\\n')\n",
    "    print(b)\n",
    "    \n",
    "finally:\n",
    "    print( 'finally vai ser executada sempre ')"
   ]
  },
  {
   "cell_type": "code",
   "execution_count": 24,
   "id": "70b015d7",
   "metadata": {
    "ExecuteTime": {
     "end_time": "2022-02-23T12:01:31.575022Z",
     "start_time": "2022-02-23T12:01:31.557750Z"
    }
   },
   "outputs": [
    {
     "name": "stdout",
     "output_type": "stream",
     "text": [
      "ocorreu um erro inesperado\n",
      "[]\n"
     ]
    }
   ],
   "source": [
    "try:\n",
    "    a = 1/0\n",
    "except NameError as erro:\n",
    "    print('Error:', erro)\n",
    "    \n",
    "except (IndexError, KeyError) as erro:\n",
    "    print('erro de indice ou chave')\n",
    "    \n",
    "except Exception as erro:\n",
    "    print('ocorreu um erro inesperado')\n",
    "\n",
    "else: \n",
    "    a = 10\n",
    "finally:\n",
    "    pass\n",
    "\n",
    "# n'ao passou pelo else\n",
    "print(a)"
   ]
  },
  {
   "cell_type": "code",
   "execution_count": null,
   "id": "6c63d9a5",
   "metadata": {},
   "outputs": [],
   "source": []
  }
 ],
 "metadata": {
  "kernelspec": {
   "display_name": "Python 3 (ipykernel)",
   "language": "python",
   "name": "python3"
  },
  "language_info": {
   "codemirror_mode": {
    "name": "ipython",
    "version": 3
   },
   "file_extension": ".py",
   "mimetype": "text/x-python",
   "name": "python",
   "nbconvert_exporter": "python",
   "pygments_lexer": "ipython3",
   "version": "3.8.10"
  }
 },
 "nbformat": 4,
 "nbformat_minor": 5
}
